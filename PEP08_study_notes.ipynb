{
 "cells": [
  {
   "cell_type": "markdown",
   "id": "9b8527d5",
   "metadata": {},
   "source": [
    "### PEP8 Key Points Summary\n",
    "\n",
    "**1. Code Layout**\n",
    "- Use 4 spaces per indentation level. Prefer spaces over tabs.\n",
    "- Limit lines to 79 characters (72 for comments/docstrings).\n",
    "- Use blank lines to separate functions, classes, and logical sections.\n",
    "- Imports should be on separate lines and grouped: standard library, third-party, local.\n",
    "- Module-level dunder names (e.g., `__all__`, `__version__`) go after the docstring and before imports.\n",
    "\n",
    "**2. String Quotes**\n",
    "- Single and double quotes are both fine, but be consistent. Use triple double quotes for docstrings.\n",
    "\n",
    "**3. Whitespace in Expressions and Statements**\n",
    "- Avoid extra spaces inside parentheses, brackets, or braces.\n",
    "- No space before commas, colons, or semicolons.\n",
    "- Use a single space around binary operators (e.g., `=`, `+`, `-`, `==`).\n",
    "- No space around `=` when used for keyword arguments or default parameter values.\n",
    "\n",
    "**4. Comments**\n",
    "- Write clear, complete, and up-to-date comments in English.\n",
    "- Block comments: start each line with `#` and a space, align with code.\n",
    "- Inline comments: use sparingly, at least two spaces from code.\n",
    "- Use docstrings for all public modules, functions, classes, and methods.\n",
    "\n",
    "**5. Naming Conventions**\n",
    "- Functions, variables: lowercase_with_underscores.\n",
    "- Classes, exceptions: CapitalizedWords.\n",
    "- Constants: ALL_CAPS_WITH_UNDERSCORES.\n",
    "- Use a single leading underscore for non-public methods and variables.\n",
    "- Avoid names that differ only by case or that are easily confused (e.g., `l`, `O`, `I`).\n",
    "\n",
    "**6. Programming Recommendations**\n",
    "- Compare to `None` using `is` or `is not`.\n",
    "- Use `isinstance()` for type checks.\n",
    "- Use `''.startswith()` and `''.endswith()` for string prefix/suffix checks.\n",
    "- Prefer absolute imports; avoid wildcard imports.\n",
    "- Use `with` statements for resource management.\n",
    "- Be consistent in return statements within a function.\n",
    "- Use `def` for function definitions, not `lambda` assignments.\n",
    "- Derive exceptions from `Exception`, and use the suffix `Error` for error exceptions.\n",
    "\n",
    "**7. Function and Variable Annotations**\n",
    "- Use PEP 484 type hinting syntax for annotations.\n",
    "- For variable annotations, use a single space after the colon and around the `=` if present.\n",
    "\n",
    "**8. Miscellaneous**\n",
    "- Trailing commas are recommended for multi-line data structures.\n",
    "- Avoid trailing whitespace and compound statements (multiple statements on one line).\n",
    "- Public interfaces should be documented and use no leading underscore; internal ones should use a single leading underscore.\n",
    "\n",
    "For more details and examples, refer to the [official PEP8 document](https://peps.python.org/pep-0008/)."
   ]
  }
 ],
 "metadata": {
  "kernelspec": {
   "display_name": "Python 3",
   "language": "python",
   "name": "python3"
  },
  "language_info": {
   "name": "python",
   "version": "3.13.7"
  }
 },
 "nbformat": 4,
 "nbformat_minor": 5
}
